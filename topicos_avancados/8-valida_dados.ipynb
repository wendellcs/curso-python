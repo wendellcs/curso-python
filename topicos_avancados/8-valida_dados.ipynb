{
 "cells": [
  {
   "cell_type": "code",
   "execution_count": null,
   "id": "ef0b37a5",
   "metadata": {},
   "outputs": [],
   "source": [
    "import re "
   ]
  },
  {
   "cell_type": "code",
   "execution_count": 24,
   "id": "91905b72",
   "metadata": {},
   "outputs": [],
   "source": [
    "def validar_contatos(contatos):\n",
    "    padrao_nome = r'Nome:\\s*([A-Z][a-z]+(?:\\s[A-Z][a-z]+)?)'\n",
    "    padrao_email = r'Email:\\s*([a-zA-Z0-9._%+-]+@[a-zA-Z0-9.-]+\\.[a-zA-Z]{2,})'\n",
    "    padrao_telefone = r'Telefone:\\s*(\\(\\d{2}\\)\\s\\d{5}-\\d{4}|\\d{5}-\\d{4})'\n",
    "\n",
    "    for contato in contatos:\n",
    "        nome_match = re.search(padrao_nome, contato)\n",
    "        email_match = re.search(padrao_email, contato)\n",
    "        telefone_match = re.search(padrao_telefone, contato)\n",
    "\n",
    "        if email_match and nome_match and telefone_match:\n",
    "            nome = nome_match.group(1)\n",
    "            email = email_match.group(1)\n",
    "            telefone = telefone_match.group(1)\n",
    "\n",
    "            print(f'Contato válido: \\nNome: {nome}\\nEmail: {email}\\nTelefone: {telefone}\\n')\n",
    "        else: \n",
    "            print(f'Contato inválido: {contato}')\n"
   ]
  },
  {
   "cell_type": "code",
   "execution_count": 25,
   "id": "31879cb9",
   "metadata": {},
   "outputs": [
    {
     "name": "stdout",
     "output_type": "stream",
     "text": [
      "Contato válido: \n",
      "Nome: Isabella Monnet\n",
      "Email: isa.monnet@exemplo.com\n",
      "Telefone: (22) 98273-2838\n",
      "\n",
      "Contato inválido: Nome: Pedro Oliveira, Email: pedro.oliveira@exemplo, Telefone: (24) 94324-6547\n"
     ]
    }
   ],
   "source": [
    "contatos_exemplo = [\n",
    "    'Nome: Isabella Monnet, Email: isa.monnet@exemplo.com, Telefone: (22) 98273-2838',\n",
    "    'Nome: Pedro Oliveira, Email: pedro.oliveira@exemplo, Telefone: (24) 94324-6547',\n",
    "]\n",
    "\n",
    "validar_contatos(contatos_exemplo)"
   ]
  }
 ],
 "metadata": {
  "kernelspec": {
   "display_name": "Python 3",
   "language": "python",
   "name": "python3"
  },
  "language_info": {
   "codemirror_mode": {
    "name": "ipython",
    "version": 3
   },
   "file_extension": ".py",
   "mimetype": "text/x-python",
   "name": "python",
   "nbconvert_exporter": "python",
   "pygments_lexer": "ipython3",
   "version": "3.12.10"
  }
 },
 "nbformat": 4,
 "nbformat_minor": 5
}
