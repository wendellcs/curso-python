{
 "cells": [
  {
   "cell_type": "code",
   "execution_count": 1,
   "id": "755cbd38",
   "metadata": {},
   "outputs": [],
   "source": [
    "import re "
   ]
  },
  {
   "cell_type": "code",
   "execution_count": 15,
   "id": "dbf3bfa0",
   "metadata": {},
   "outputs": [],
   "source": [
    "def explorar_expressao_regular(texto):\n",
    "    padrao = r'\\bPython\\b'\n",
    "\n",
    "    if re.search(padrao, texto):\n",
    "        print('O padrão foi encontrado no texto.')\n",
    "        aparicoes = re.findall(padrao, texto)\n",
    "        print(aparicoes)\n",
    "    else:\n",
    "        print('O padrão não foi encontrado no texto.')\n",
    "\n",
    "    # Substituir um padrão por outro\n",
    "\n",
    "    texto_substituido = re.sub(r'Python', 'JavaScript', texto)\n",
    "    print(texto_substituido)\n",
    "\n",
    "    "
   ]
  },
  {
   "cell_type": "code",
   "execution_count": 16,
   "id": "717dfeaa",
   "metadata": {},
   "outputs": [
    {
     "name": "stdout",
     "output_type": "stream",
     "text": [
      "O padrão foi encontrado no texto.\n",
      "['Python', 'Python']\n",
      "\n",
      "    Olá, eu sou um desenvolvedor JavaScript.\n",
      "    Você pode me contatar em meu email: exemplo@exemplo.com\n",
      "    JavaScript é uma linguagem popular.\n",
      "\n"
     ]
    }
   ],
   "source": [
    "texto_exemplo = '''\n",
    "    Olá, eu sou um desenvolvedor Python.\n",
    "    Você pode me contatar em meu email: exemplo@exemplo.com\n",
    "    Python é uma linguagem popular.\n",
    "'''\n",
    "\n",
    "explorar_expressao_regular(texto_exemplo)"
   ]
  }
 ],
 "metadata": {
  "kernelspec": {
   "display_name": "Python 3",
   "language": "python",
   "name": "python3"
  },
  "language_info": {
   "codemirror_mode": {
    "name": "ipython",
    "version": 3
   },
   "file_extension": ".py",
   "mimetype": "text/x-python",
   "name": "python",
   "nbconvert_exporter": "python",
   "pygments_lexer": "ipython3",
   "version": "3.12.10"
  }
 },
 "nbformat": 4,
 "nbformat_minor": 5
}
