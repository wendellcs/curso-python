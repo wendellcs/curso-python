{
 "cells": [
  {
   "cell_type": "markdown",
   "id": "aea11f29",
   "metadata": {},
   "source": [
    "# Map\n",
    "\n",
    "- Função que aplica uma função a todos os itens de um iterável ( uma lista, por exemplo ).\n",
    "- É uma maneira eficiente e consisa de transformar dados."
   ]
  },
  {
   "cell_type": "code",
   "execution_count": 12,
   "id": "304766e7",
   "metadata": {},
   "outputs": [],
   "source": [
    "numeros = range(20)"
   ]
  },
  {
   "cell_type": "code",
   "execution_count": 16,
   "id": "823c3c27",
   "metadata": {},
   "outputs": [
    {
     "name": "stdout",
     "output_type": "stream",
     "text": [
      "0\n",
      "1\n",
      "4\n",
      "9\n",
      "16\n",
      "25\n",
      "36\n",
      "49\n",
      "64\n",
      "81\n",
      "100\n",
      "121\n",
      "144\n",
      "169\n",
      "196\n",
      "225\n",
      "256\n",
      "289\n",
      "324\n",
      "361\n"
     ]
    }
   ],
   "source": [
    "# Sem o map\n",
    "\n",
    "def quadrado(x):\n",
    "    return x ** 2\n",
    "\n",
    "for n in numeros:\n",
    "    print(quadrado(n))"
   ]
  },
  {
   "cell_type": "code",
   "execution_count": null,
   "id": "e08e08ab",
   "metadata": {},
   "outputs": [
    {
     "data": {
      "text/plain": [
       "[0,\n",
       " 1,\n",
       " 4,\n",
       " 9,\n",
       " 16,\n",
       " 25,\n",
       " 36,\n",
       " 49,\n",
       " 64,\n",
       " 81,\n",
       " 100,\n",
       " 121,\n",
       " 144,\n",
       " 169,\n",
       " 196,\n",
       " 225,\n",
       " 256,\n",
       " 289,\n",
       " 324,\n",
       " 361]"
      ]
     },
     "execution_count": 21,
     "metadata": {},
     "output_type": "execute_result"
    }
   ],
   "source": [
    "# Com o map\n",
    "\n",
    "resultados = map(quadrado, numeros)"
   ]
  }
 ],
 "metadata": {
  "kernelspec": {
   "display_name": "Python 3",
   "language": "python",
   "name": "python3"
  },
  "language_info": {
   "codemirror_mode": {
    "name": "ipython",
    "version": 3
   },
   "file_extension": ".py",
   "mimetype": "text/x-python",
   "name": "python",
   "nbconvert_exporter": "python",
   "pygments_lexer": "ipython3",
   "version": "3.12.10"
  }
 },
 "nbformat": 4,
 "nbformat_minor": 5
}
