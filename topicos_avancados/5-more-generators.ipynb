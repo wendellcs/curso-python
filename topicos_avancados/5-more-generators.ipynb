{
 "cells": [
  {
   "cell_type": "code",
   "execution_count": 1,
   "id": "1c82871f",
   "metadata": {},
   "outputs": [
    {
     "name": "stdout",
     "output_type": "stream",
     "text": [
      "0\n",
      "1\n",
      "4\n",
      "9\n",
      "16\n",
      "25\n",
      "36\n",
      "49\n",
      "64\n",
      "81\n"
     ]
    }
   ],
   "source": [
    "# Gerador de expressão\n",
    "quadrados = (x ** 2 for x in range(10))\n",
    "\n",
    "for quadrado in quadrados:\n",
    "    print(quadrado)"
   ]
  },
  {
   "cell_type": "code",
   "execution_count": 2,
   "id": "9ffd7cf5",
   "metadata": {},
   "outputs": [
    {
     "name": "stdout",
     "output_type": "stream",
     "text": [
      "0\n",
      "1\n",
      "2\n",
      "3\n",
      "4\n",
      "5\n",
      "6\n",
      "7\n",
      "8\n",
      "9\n"
     ]
    }
   ],
   "source": [
    "# Iterador Infinito\n",
    "\n",
    "def contador_infinito():\n",
    "    i = 0\n",
    "    while True:\n",
    "        yield i\n",
    "        i += 1\n",
    "\n",
    "contador = contador_infinito()\n",
    "\n",
    "for _ in range(10):\n",
    "    print(next(contador))"
   ]
  },
  {
   "cell_type": "code",
   "execution_count": null,
   "id": "52ff4503",
   "metadata": {},
   "outputs": [
    {
     "name": "stdout",
     "output_type": "stream",
     "text": [
      "10\n",
      "15\n",
      "30\n"
     ]
    }
   ],
   "source": [
    "# Coleta de Valores com send()\n",
    "\n",
    "def gerador_soma():\n",
    "    total = 0\n",
    "    while True:\n",
    "        valor = yield total # Recebe um valor e retorna o total acumulado\n",
    "        if valor is not None:\n",
    "            total += valor \n",
    "\n",
    "soma = gerador_soma()\n",
    "next(soma) # Inicializa o gerador\n",
    "\n",
    "print(soma.send(10))\n",
    "print(soma.send(5))\n",
    "print(soma.send(15))"
   ]
  },
  {
   "cell_type": "code",
   "execution_count": 5,
   "id": "3f3a810c",
   "metadata": {},
   "outputs": [
    {
     "name": "stdout",
     "output_type": "stream",
     "text": [
      "Valor recebido: 10\n",
      "Valor invalido\n"
     ]
    },
    {
     "ename": "StopIteration",
     "evalue": "",
     "output_type": "error",
     "traceback": [
      "\u001b[31m---------------------------------------------------------------------------\u001b[39m",
      "\u001b[31mStopIteration\u001b[39m                             Traceback (most recent call last)",
      "\u001b[36mCell\u001b[39m\u001b[36m \u001b[39m\u001b[32mIn[5]\u001b[39m\u001b[32m, line 14\u001b[39m\n\u001b[32m     12\u001b[39m \u001b[38;5;28mnext\u001b[39m(g)\n\u001b[32m     13\u001b[39m g.send(\u001b[32m10\u001b[39m)\n\u001b[32m---> \u001b[39m\u001b[32m14\u001b[39m \u001b[43mg\u001b[49m\u001b[43m.\u001b[49m\u001b[43mthrow\u001b[49m\u001b[43m(\u001b[49m\u001b[38;5;167;43;01mValueError\u001b[39;49;00m\u001b[43m)\u001b[49m\n",
      "\u001b[31mStopIteration\u001b[39m: "
     ]
    }
   ],
   "source": [
    "# Tratamento de exceções\n",
    "\n",
    "def gerador_excecao():\n",
    "    try:\n",
    "        while True:\n",
    "            valor = yield\n",
    "            print(f'Valor recebido: {valor}')\n",
    "    except ValueError:\n",
    "        print('Valor invalido')\n",
    "\n",
    "g = gerador_excecao()\n",
    "next(g)\n",
    "g.send(10)\n",
    "g.throw(ValueError)"
   ]
  },
  {
   "cell_type": "code",
   "execution_count": 6,
   "id": "c9d639cf",
   "metadata": {},
   "outputs": [
    {
     "name": "stdout",
     "output_type": "stream",
     "text": [
      "5\n",
      "7\n",
      "9\n",
      "11\n",
      "13\n"
     ]
    }
   ],
   "source": [
    "# Cascata de geradores\n",
    "\n",
    "def multiplicar_por_dois(iterable):\n",
    "    for i in iterable:\n",
    "        yield i * 2\n",
    "\n",
    "def adicionar_cinco(iterable):\n",
    "    for i in iterable:\n",
    "        yield i + 5\n",
    "\n",
    "numeros = range(5)\n",
    "resultado = adicionar_cinco(multiplicar_por_dois(numeros))\n",
    "\n",
    "for r in resultado:\n",
    "    print(r)"
   ]
  }
 ],
 "metadata": {
  "kernelspec": {
   "display_name": "Python 3",
   "language": "python",
   "name": "python3"
  },
  "language_info": {
   "codemirror_mode": {
    "name": "ipython",
    "version": 3
   },
   "file_extension": ".py",
   "mimetype": "text/x-python",
   "name": "python",
   "nbconvert_exporter": "python",
   "pygments_lexer": "ipython3",
   "version": "3.12.10"
  }
 },
 "nbformat": 4,
 "nbformat_minor": 5
}
