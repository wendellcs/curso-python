{
 "cells": [
  {
   "cell_type": "markdown",
   "metadata": {},
   "source": [
    "# Yield\n",
    "\n",
    "- Palavra chave para criar geradores.\n",
    "\n",
    "- Quando usamos ele para criar uma função, essa função é transformada em um gerador, um tipo especial de iterador.\n",
    "\n",
    "- *Return* - Quando usado em uma função, ela é encerrada e seu valor retornado. Chamadas subsequentes à função\n",
    "    iniciam a execução novamente do código.\n",
    "\n",
    "- *Yield* - Pode ser chamada novamente e retomar a execução do ponto onde foi pausada, permitindo a produção de uma\n",
    "    sequencia de valores ao longo do tempo."
   ]
  },
  {
   "cell_type": "code",
   "execution_count": null,
   "metadata": {},
   "outputs": [],
   "source": [
    "def numeros_impares(n):\n",
    "    for i in range(1, n + 1, 2):\n",
    "        yield i"
   ]
  },
  {
   "cell_type": "code",
   "execution_count": 2,
   "metadata": {},
   "outputs": [
    {
     "name": "stdout",
     "output_type": "stream",
     "text": [
      "1\n",
      "3\n",
      "5\n",
      "7\n",
      "9\n"
     ]
    }
   ],
   "source": [
    "for numero in numeros_impares(10):\n",
    "    print(numero)"
   ]
  },
  {
   "cell_type": "markdown",
   "metadata": {},
   "source": [
    "O *next()* em Python é uma função usada para obter o próximo valor de um iterador. Ele é frequentemente usado com geradores e iteradores para avançar na sequência de valores."
   ]
  },
  {
   "cell_type": "code",
   "execution_count": 7,
   "metadata": {},
   "outputs": [
    {
     "name": "stdout",
     "output_type": "stream",
     "text": [
      "0\n",
      "1\n",
      "2\n"
     ]
    }
   ],
   "source": [
    "def contador():\n",
    "    for i in range(3):\n",
    "        yield i  # Pausa e retorna i\n",
    "\n",
    "gen = contador()  # Cria um gerador\n",
    "print(next(gen))  # Saída: 0\n",
    "print(next(gen))  # Saída: 1\n",
    "print(next(gen))  # Saída: 2\n",
    "# print(next(gen))  # Erro: StopIteration (o gerador terminou)"
   ]
  }
 ],
 "metadata": {
  "kernelspec": {
   "display_name": "Python 3",
   "language": "python",
   "name": "python3"
  },
  "language_info": {
   "codemirror_mode": {
    "name": "ipython",
    "version": 3
   },
   "file_extension": ".py",
   "mimetype": "text/x-python",
   "name": "python",
   "nbconvert_exporter": "python",
   "pygments_lexer": "ipython3",
   "version": "3.12.9"
  }
 },
 "nbformat": 4,
 "nbformat_minor": 2
}
