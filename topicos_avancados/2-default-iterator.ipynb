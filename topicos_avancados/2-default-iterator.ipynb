{
 "cells": [
  {
   "cell_type": "markdown",
   "metadata": {},
   "source": [
    "# Default Iterator"
   ]
  },
  {
   "cell_type": "code",
   "execution_count": 2,
   "metadata": {},
   "outputs": [],
   "source": [
    "import itertools"
   ]
  },
  {
   "cell_type": "code",
   "execution_count": null,
   "metadata": {},
   "outputs": [
    {
     "name": "stdout",
     "output_type": "stream",
     "text": [
      "0\n",
      "1\n",
      "2\n",
      "3\n",
      "4\n"
     ]
    }
   ],
   "source": [
    "# Range \n",
    "\n",
    "for i in range(5):\n",
    "    print(i)"
   ]
  },
  {
   "cell_type": "code",
   "execution_count": null,
   "metadata": {},
   "outputs": [
    {
     "name": "stdout",
     "output_type": "stream",
     "text": [
      "Maçã\n",
      "Mamão\n",
      "Banana\n",
      "Uva\n"
     ]
    }
   ],
   "source": [
    "# Iterar Lista\n",
    "\n",
    "frutas = ['Maçã', 'Mamão' , 'Banana', 'Uva']\n",
    "\n",
    "for fruta in frutas:\n",
    "    print(fruta)"
   ]
  },
  {
   "cell_type": "code",
   "execution_count": 6,
   "metadata": {},
   "outputs": [
    {
     "name": "stdout",
     "output_type": "stream",
     "text": [
      "nome - Isabela\n",
      "idade - 23\n"
     ]
    }
   ],
   "source": [
    "# Iterar Dicionário\n",
    "\n",
    "pessoa = {\n",
    "    'nome': 'Isabela',\n",
    "    'idade': 23\n",
    "}\n",
    "\n",
    "for chave in pessoa:\n",
    "    print(chave, '-' , pessoa[chave])"
   ]
  },
  {
   "cell_type": "code",
   "execution_count": null,
   "metadata": {},
   "outputs": [
    {
     "name": "stdout",
     "output_type": "stream",
     "text": [
      "0 Maçã\n",
      "1 Mamão\n",
      "2 Banana\n",
      "3 Uva\n"
     ]
    }
   ],
   "source": [
    "# Enumerate() - Traz os valores e o index\n",
    "\n",
    "for indice, fruta in enumerate(frutas):\n",
    "    print(indice, fruta)\n"
   ]
  },
  {
   "cell_type": "code",
   "execution_count": 8,
   "metadata": {},
   "outputs": [
    {
     "name": "stdout",
     "output_type": "stream",
     "text": [
      "Alice 25\n",
      "Bob 30\n",
      "Carlos 19\n"
     ]
    }
   ],
   "source": [
    "# Zip()\n",
    "\n",
    "nomes = ['Alice', 'Bob' , 'Carlos']\n",
    "idades = [25 , 30 , 19]\n",
    "\n",
    "for nome, idade in zip(nomes, idades):\n",
    "    print(nome, idade)"
   ]
  },
  {
   "cell_type": "code",
   "execution_count": 11,
   "metadata": {},
   "outputs": [
    {
     "name": "stdout",
     "output_type": "stream",
     "text": [
      "0\n",
      "2\n",
      "4\n",
      "6\n",
      "8\n",
      "10\n",
      "12\n",
      "14\n",
      "16\n",
      "18\n",
      "20\n"
     ]
    }
   ],
   "source": [
    "# Itertools\n",
    "\n",
    "for i in itertools.count(start=0, step=2):\n",
    "    if i > 20:\n",
    "        break\n",
    "    print(i)"
   ]
  }
 ],
 "metadata": {
  "kernelspec": {
   "display_name": "Python 3",
   "language": "python",
   "name": "python3"
  },
  "language_info": {
   "codemirror_mode": {
    "name": "ipython",
    "version": 3
   },
   "file_extension": ".py",
   "mimetype": "text/x-python",
   "name": "python",
   "nbconvert_exporter": "python",
   "pygments_lexer": "ipython3",
   "version": "3.12.9"
  }
 },
 "nbformat": 4,
 "nbformat_minor": 2
}
